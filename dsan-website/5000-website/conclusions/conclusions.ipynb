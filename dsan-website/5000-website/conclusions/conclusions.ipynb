{
 "cells": [
  {
   "cell_type": "markdown",
   "metadata": {},
   "source": [
    "---\n",
    "title: \"Conclusions\"\n",
    "format:\n",
    "  html:\n",
    "      embed-resources: true\n",
    "      code-fold: true\n",
    "      cite-method: biblatex\n",
    "---"
   ]
  },
  {
   "cell_type": "markdown",
   "metadata": {},
   "source": [
    "## From the Data\n",
    "\n",
    "Through exploratory analysis, Naive Bayes classification algorithms, clustering, and decision trees, there are several conclusions that can be made to better understand the role of public transit as it exists currently. Firstly, from analyzing Census data regarding self-reported primary methods of transportation for commuting to work, we can begin to answer the question \"Who is most affected by changes in public transit ridership and policy?\" Through Naive Bayes classification, we learned that categorical discriminators are predictive of one's primary method of transportation. This technique provided little value as a specific descriptor of each feature and its impact, but it opens the door for our understanding that public transit as a service affects different groups disproportionately. When we discuss the efficacy of a public transit system, value to these groups should enter the discussion, rather than a simple one-size-fits-all analysis. Through classification decision trees, however, we were able to conclude that people in large cities and with low income are more likely to use public transit to commute to work, a phenomenon that should greatly inform any policy decision.\n",
    "\n",
    "From supervised learning on public transit data grouped by city, there were valuable insights to be gained on what characteristics impact key performance indicators of a public transit system. Firstly, we determined that proportional volume of public transit ridership (i.e., total trips per capita) was mainly dependent on the size of a city. Larger cities not only had a greater total ridership, but on a per-person basis, they still outperformed smaller cities. Meanwhile, cost per trip served as a proxy for the financial viability of a public transit system. Maintaining or expanding public transit services is much easier to justify if the requisite money spent goes towards serving residents at a substantial rate. This process told us that average trip length had the greatest impact on the cost to a city. This relationship is simple to see: a longer trip requires more infrastructure and labor hours to complete, directly influencing how much a city needs to pay.\n",
    "\n",
    "Analyzing text data from Yelp reviews is a much different process with a new set of insights. Rather than gathering descriptive information about an organization or group of people, we can instead see how people discuss such phenomena, and how that might relate to their overall sentiments. One thing to be noted from clustering is that reviewers of the top public transit systems tended to stay on topic, meaning the reviews covered topics related to public transportation and included associated words. Through classification, we can conclude that the manner in which one discusses public transit on Yelp is somewhat predictive of the numerical rating they will give.\n",
    "\n",
    "## Further Exploration\n",
    "\n",
    "Upon arriving at conclusions from the data gathered for this report, it is clear that more work can be done on this topic to better answer some of the questions asked at the start. Firstly, a time series analysis of the drop in public transit ridership and the subsequent slow recovery could offer great insight. When paired with time series data on characteristics of cities and their residents, this could shed more light on why these trends occur and what we can expect in the future.\n",
    "\n",
    "Additionally, greater access to financial data can help answer questions about the economic viability of public transit systems and the extent to which taxpayers are burdened by their presence.\n",
    "\n",
    "## Discussion\n",
    "\n",
    "As we zoom out and look to apply this data to establish actionable insights for any city for which the efficacy of public transit is not quite clear, it is important to remember the context of the COVID-19 pandemic drastically altering the landscape, and therefore the economics, of public transit ridership. It is clear that the manner in which one commutes to work is a substantial indicator of their methods of transportation as a whole. Public transit is therefore reliant on those who use it as a means to commute to their occupation, which makes the seemingly somewhat permanent rise in work-from-home employment a potential long-term suppressor of public transit ridership. Through exploratory analysis, we could see that the circumstance of people working from home at a greater rate than before the pandemic is similar for many large cities, allowing us to generalize over different regions of the country to say that this is a national phenomenon.\n",
    "\n",
    "While this may lead one to conclude that cities could intentionally reduce work-from-home jobs, we should note the political ramifications of such a decision. As shown in exploratory analysis, the gulf between what employers want in terms of work-from-home hours and what employees want is massive. Just as public transit is an often inquantifiably beneficial service to many residents, workers can see the convenience and cost-effectiveness of working from their domicile as a huge advantage.\n",
    "\n",
    "As cities continue to search for ways to make their public transit system more cost-effective and serve more of its population, the analyses in this report seem a bit discouraging. It is quite clear that the main indicators of whether or not a system performs well in these areas are not so much due to policy, but rather general characteristics about the city. It is an unavoidable fact that public transit disproportionately serves those in larger cities, and those larger cities subsequently attain greater cost-effectiveness due to the volume. The fixed cost of creating and maintaining public transit infrastructure can mainly be offset by a dense population using their city's offerings regularly.\n",
    "\n",
    "Ultimately, after applying multiple data analysis techniques, it is clear that public transit is a vital staple in the lives of many. It disproportionally benefits those with low income in large cities, and primarily serves as a medium for transporting people to their place of occupation. Thus, it remains important for cities to continue to support robust public transit infrastructure."
   ]
  }
 ],
 "metadata": {
  "language_info": {
   "name": "python"
  },
  "orig_nbformat": 4
 },
 "nbformat": 4,
 "nbformat_minor": 2
}
