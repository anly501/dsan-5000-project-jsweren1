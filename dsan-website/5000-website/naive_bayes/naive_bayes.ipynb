{
 "cells": [
  {
   "cell_type": "markdown",
   "metadata": {},
   "source": [
    "---\n",
    "title: \"Naive Bayes\"\n",
    "format:\n",
    "  html:\n",
    "      embed-resources: true\n",
    "      code-fold: true\n",
    "---"
   ]
  }
 ],
 "metadata": {
  "language_info": {
   "name": "python"
  }
 },
 "nbformat": 4,
 "nbformat_minor": 2
}
