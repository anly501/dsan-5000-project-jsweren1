{
  "cells": [
    {
      "cell_type": "markdown",
      "metadata": {},
      "source": [
        "---\n",
        "title: \"About the Author\"\n",
        "format:\n",
        "  html:\n",
        "      embed-resources: true\n",
        "      code-fold: true\n",
        "      cite-method: biblatex\n",
        "---"
      ]
    },
    {
      "cell_type": "markdown",
      "metadata": {},
      "source": [
        "<html><head>\n",
        "    <title>Lab 1.1.3</title>\n",
        "\n",
        "    <!-- point to css stylesheet -->\n",
        "    <link rel=\"stylesheet\" href=\"styles.css\">\n",
        " \n",
        "</head>\n",
        "\n",
        "\n",
        "<body>\n",
        "\n",
        "\n",
        "<p style=\"font-size:16px;\"> Josh Sweren is a graduate student in the Data Science and Analytics program at Georgetown University. He received his B.S. in Statistics with minors in Computer Science and Mathematics from the George Washington University in 2020. Since graduating, he has remained in the Washington, D.C. area, and has worked in government consulting for over three years. He currently works as a Business Analyst for an IT contractor, serving under a contract with the United States Department of Agriculture. Originally from New York, Mr. Sweren is eager to learn about Machine Learning and Deep Learning, as well as the broader topics of data visualization and communication. Outside of work, he enjoys playing and watching sports, as well as doing puzzles. </p>\n",
        "\n",
        "<!-- USE A TABLE TO ORGANIZE/FORMAT THE WEBPAGE -->\n",
        "<table>\n",
        "    <!--TABLE ROW-1-->\n",
        "   <tbody><tr>\n",
        "      <!--ROW-1 COL-1-->\n",
        "      <td>\n",
        "            <img src=\"images/headshot.png\" width=\"333\" height=\"500\">\n",
        "      </td>\n",
        "      <!--ROW-1 COL-2-->\n",
        "      <td>\n",
        "        <h2 style=\"text-align:left; color:#355464;\">&nbsp;&nbsp;Current Coursework</h2>  \n",
        "        <ul style=\"text-align:left; color:#001628; line-height: 1;\">\n",
        "            <li> DSAN 5000: Data Science and Analytics</li><br>\n",
        "            <li> DSAN 5100: Probabilistic Modeling and Statistical Computing</li><br>\n",
        "        </ul>\n",
        "        <h2 style=\"text-align:left; color:#355464;\">&nbsp;&nbsp;Relevant Prior Coursework</h2>\n",
        "        <ul style=\"text-align:left; color:#001628; line-height: 1;\">\n",
        "            <li> Big Data &amp; Analytics</li><br>\n",
        "            <li> Statistical Computer Packages</li><br>\n",
        "            <li> Mathematical Statistics</li><br>\n",
        "            <li> Combinatorics </li> <br>\n",
        "            <li> Bayesian Statistics </li><br>\n",
        "            <li> Time Series Analysis </li><br> \n",
        "            <li> Software Engineering </li><br>  \n",
        "        </ul>\n",
        "      </td>\n",
        "   </tr> \n",
        "</tbody></table>\n",
        "</body></html>\n"
      ]
    }
  ],
  "metadata": {
    "kernelspec": {
      "display_name": "dsan5000",
      "language": "python",
      "name": "dsan5000"
    }
  },
  "nbformat": 4,
  "nbformat_minor": 4
}
