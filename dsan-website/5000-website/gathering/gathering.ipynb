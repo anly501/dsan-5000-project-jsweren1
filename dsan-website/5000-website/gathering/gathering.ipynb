{
 "cells": [
  {
   "cell_type": "raw",
   "metadata": {},
   "source": [
    "---\n",
    "title: \"Data Gathering\"\n",
    "---"
   ]
  },
  {
   "cell_type": "markdown",
   "metadata": {},
   "source": [
    "### Quarterly and Annual Ridership Totals by Mode​ of Transportation\n",
    "\n",
    "The initial piece of data that was gathered comes from the American Public Transportation Association, and can serve as an introductory synopsis of the state of public transit ridership over time. This gives a broad view of quarterly ridership across the entire country from 1990 onward. Thus, this data has been chosen for the potential of setting the stage for the problem which we intend to explore.\n",
    "\n",
    "The raw data and methodology for how it was obtained can be found using this link: https://www.apta.com/research-technical-resources/transit-statistics/ridership-report/\n",
    "\n",
    "The data itself can be downloaded using this link: https://www.apta.com/wp-content/uploads/APTA-Ridership-by-Mode-and-Quarter-1990-Present.xlsx\n",
    "\n",
    "Below is a screenshot of the raw data to illustrate its form upon download:\n",
    "\n",
    "![Quarterly and Annual Ridership Totals by Mode​ of Transportation](../images/apta_raw_data.png)"
   ]
  },
  {
   "cell_type": "markdown",
   "metadata": {},
   "source": [
    "### News API Data"
   ]
  },
  {
   "cell_type": "markdown",
   "metadata": {},
   "source": []
  },
  {
   "cell_type": "code",
   "execution_count": 2,
   "metadata": {},
   "outputs": [],
   "source": [
    "import requests\n",
    "import json\n",
    "import re\n",
    "import pandas as pd\n",
    "from sklearn.feature_extraction.text import CountVectorizer\n",
    "\n",
    "baseURL = \"https://newsapi.org/v2/everything?\"\n",
    "total_requests=2\n",
    "verbose=True\n",
    "\n",
    "API_KEY='581fd71df234408291300dc13f0ee6e8'\n",
    "TOPIC='wmata'\n",
    "\n",
    "URLpost = {'apiKey': API_KEY,\n",
    "            'q': '+'+TOPIC,\n",
    "            'sortBy': 'relevancy',\n",
    "            'totalRequests': 1}\n",
    "\n",
    "response = requests.get(baseURL, URLpost)\n",
    "response = response.json()\n",
    "\n",
    "with open('WMATA-newapi-raw-data.json', 'w') as outfile:\n",
    "    json.dump(response, outfile, indent=4)"
   ]
  },
  {
   "cell_type": "code",
   "execution_count": 3,
   "metadata": {},
   "outputs": [],
   "source": [
    "baseURL = \"https://newsapi.org/v2/everything?\"\n",
    "total_requests=2\n",
    "verbose=True\n",
    "\n",
    "API_KEY='581fd71df234408291300dc13f0ee6e8'\n",
    "TOPIC='Bay Area Rapid Transit'\n",
    "\n",
    "URLpost = {'apiKey': API_KEY,\n",
    "            'q': '+'+TOPIC,\n",
    "            'sortBy': 'relevancy',\n",
    "            'totalRequests': 1}\n",
    "\n",
    "response = requests.get(baseURL, URLpost)\n",
    "response = response.json()\n",
    "\n",
    "with open('BART-newapi-raw-data.json', 'w') as outfile:\n",
    "    json.dump(response, outfile, indent=4)"
   ]
  },
  {
   "cell_type": "markdown",
   "metadata": {},
   "source": [
    "### Remote Work Trends"
   ]
  }
 ],
 "metadata": {
  "kernelspec": {
   "display_name": "dsan5000",
   "language": "python",
   "name": "python3"
  },
  "language_info": {
   "codemirror_mode": {
    "name": "ipython",
    "version": 3
   },
   "file_extension": ".py",
   "mimetype": "text/x-python",
   "name": "python",
   "nbconvert_exporter": "python",
   "pygments_lexer": "ipython3",
   "version": "3.11.5"
  },
  "orig_nbformat": 4
 },
 "nbformat": 4,
 "nbformat_minor": 2
}
