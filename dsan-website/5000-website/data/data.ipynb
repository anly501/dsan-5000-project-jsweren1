{
 "cells": [
  {
   "cell_type": "raw",
   "metadata": {},
   "source": [
    "---\n",
    "title: \"Data\"\n",
    "format:\n",
    "  html:\n",
    "    code-fold: true\n",
    "    code-summary: \"Show the code\"\n",
    "    cite-method: biblatex\n",
    "---"
   ]
  },
  {
   "cell_type": "markdown",
   "metadata": {},
   "source": [
    "[Click here to access the Data folder of Github repository](https://github.com/anly501/dsan-5000-project-jsweren1/tree/main/dsan-website/5000-website/data)"
   ]
  },
  {
   "cell_type": "markdown",
   "metadata": {},
   "source": [
    "### Below are the tabs for this portion of the report:\n",
    "\n",
    "- [Data Gathering](https://jms819.georgetown.domains/dsan-website/5000-website/_site/gathering/gathering.html)\n",
    "- [Data Cleaning](https://jms819.georgetown.domains/dsan-website/5000-website/_site/cleaning/cleaning.html)\n",
    "- [Exploratory Data Analysis](https://jms819.georgetown.domains/dsan-website/5000-website/_site/eda/eda.html)"
   ]
  }
 ],
 "metadata": {
  "kernelspec": {
   "display_name": "dsan5000",
   "language": "python",
   "name": "python3"
  },
  "language_info": {
   "codemirror_mode": {
    "name": "ipython",
    "version": 3
   },
   "file_extension": ".py",
   "mimetype": "text/x-python",
   "name": "python",
   "nbconvert_exporter": "python",
   "pygments_lexer": "ipython3",
   "version": "3.11.5"
  },
  "orig_nbformat": 4
 },
 "nbformat": 4,
 "nbformat_minor": 2
}
