{
  "cells": [
    {
      "cell_type": "raw",
      "metadata": {},
      "source": [
        "---\n",
        "title: \"DSAN-5000: Introduction\"\n",
        "---"
      ]
    },
    {
      "cell_type": "markdown",
      "metadata": {},
      "source": [
        "See the following link for more information about the author: [about me](../../index.html)\n",
        "\n",
        "This is a Quarto website.\n",
        "\n",
        "To learn more about Quarto websites visit <https://quarto.org/docs/websites>.\n",
        "\n",
        "`HIGHLY RECOMMENDED` \n",
        "\n",
        "* It is `highly recommended` that you build your website using `.ipynb` files and NOT `.qmd`files\n",
        "* Functionally the two formats are basically identical, i.e. they are just `Markdown` + `Code` \n",
        "* However there is `ONE MAJOR DIFFERENCE`, i.e. `.ipynb` stores the code outputs in the meta-data of the file\n",
        "  * This means you `ONLY HAVE TO RUN THE CODE ONCE` with `.ipynb`\n",
        "  * `.qmd` will run the code every time you build the website, which can be very slow\n",
        "    * There are `caching` options for `.qmd`, however, they are \"messier\" that just using `.ipynb`\n",
        "  * **Note**: `.qmd` is fine if there is no code, in which case it is basically just a `Markdown` file\n",
        "* Converting between the two\n",
        "  * You can switch between the two formats using \n",
        "  * `quarto convert clustering.qmd` this will output a `.ipynb` version called `clustering.ipynb`\n",
        "  * `quarto convert eda.ipynb` this will output a `.qmd` version called `eda.qmd`\n",
        "* YOU CAN RUN `R CODE` IN VSC WITH `.ipynb`, see the following link \n",
        "  * [https://saturncloud.io/blog/how-to-use-jupyter-r-kernel-with-visual-studio-code/](https://saturncloud.io/blog/how-to-use-jupyter-r-kernel-with-visual-studio-code/)\n",
        "* It is possible, but `NOT RECOMMENDED`, to mix Python and R code in the same file\n",
        "\n",
        "\n",
        "`IMPORTANT ASIDE`\n",
        "\n",
        "*  A `.ipynb` file is simply a `JSON` file with a specialized structural format\n",
        "*  You can see this by running `more eda/eda.ipynb` from the command line\n",
        "* Which will output the following;    \n",
        "    ![](images/2023-08-23-09-39-14.png){width=500}\n",
        "\n",
        "`TIP FOR MAC USERS`\n",
        "\n",
        "* `command+control+shift+4` is very useful on a mac. \n",
        "  * It takes a screenshot and saves it to the clip-board \n",
        "* The following VSC extension allows you to paste images from the clip-board with `alt+command+v`.    \n",
        "    ![](images/2023-08-23-09-35-05.png){width=300}\n",
        "* `tab` is your best friend when using the command line, since it does `auto-completion` \n",
        "* `open ./path_to_file` will open any file or directory from the command line "
      ]
    }
  ],
  "metadata": {
    "kernelspec": {
      "name": "dsan5000",
      "language": "python",
      "display_name": "dsan5000"
    }
  },
  "nbformat": 4,
  "nbformat_minor": 4
}