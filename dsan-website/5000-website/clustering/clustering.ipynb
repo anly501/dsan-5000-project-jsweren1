{
  "cells": [
    {
      "cell_type": "raw",
      "metadata": {},
      "source": [
        "---\n",
        "title: \"Clustering\"\n",
        "format:\n",
        "  html:\n",
        "      embed-resources: true\n",
        "      code-fold: true\n",
        "---"
      ]
    },
    {
      "cell_type": "markdown",
      "metadata": {},
      "source": [
        "## Introduction"
      ]
    },
    {
      "cell_type": "markdown",
      "metadata": {},
      "source": [
        "## Theory"
      ]
    },
    {
      "cell_type": "markdown",
      "metadata": {},
      "source": [
        "## Methods"
      ]
    },
    {
      "cell_type": "code",
      "execution_count": 1,
      "metadata": {},
      "outputs": [
        {
          "name": "stdout",
          "output_type": "stream",
          "text": [
            "Intel MKL WARNING: Support of Intel(R) Streaming SIMD Extensions 4.2 (Intel(R) SSE4.2) enabled only processors has been deprecated. Intel oneAPI Math Kernel Library 2025.0 will require Intel(R) Advanced Vector Extensions (Intel(R) AVX) instructions.\n",
            "Intel MKL WARNING: Support of Intel(R) Streaming SIMD Extensions 4.2 (Intel(R) SSE4.2) enabled only processors has been deprecated. Intel oneAPI Math Kernel Library 2025.0 will require Intel(R) Advanced Vector Extensions (Intel(R) AVX) instructions.\n",
            "5\n",
            "(1000, 2) (1000,)\n"
          ]
        }
      ],
      "source": [
        "import numpy as np\n",
        "import matplotlib.pyplot as plt\n",
        "import sklearn\n",
        "\n",
        "def generate_2D_normal_clusters(points_per_cluster=200, num_cluster=3, correlated=True):\n",
        "    #DATA GENERATION PARAMETERS \n",
        "\n",
        "    sets={}\n",
        "    #GENERATE CLUSTERS FROM 2D NORMAL DISTANCE\n",
        "    for cluster in range(0,num_cluster):\n",
        "        # points_per_cluster=int(np.random.uniform(low=100, high=300, size=1))\n",
        "\n",
        "        #normal distribution param\n",
        "        L=10\n",
        "        ux=np.random.uniform(-L,L,size=1)[0]; \n",
        "        uy=np.random.uniform(-L,L,size=1)[0];\n",
        "        sx=np.random.uniform(0.1*L,0.25*L,size=1)[0]; \n",
        "        sy=np.random.uniform(0.1*L,0.25*L,size=1)[0];           #STD-DEV\n",
        "        rho=np.random.uniform(0.0,.99,size=1)[0];       #[0,1) RHO=PEARSON CORRELATION\n",
        "        u=np.array([ux,uy])\n",
        "        S=np.array([[sx**2.0,rho*sy*sx],[rho*sy*sx,sy**2.0]])   #COVARIANCE METRIC\n",
        "        if(correlated==False): \n",
        "            S[0,1]=0; S[1,0]=0\n",
        "        \n",
        "        x1, x2 = np.random.multivariate_normal(u, S, points_per_cluster).T\n",
        "\n",
        "        if cluster==0:\n",
        "            X=np.array([x1,x2]).T\n",
        "            y=cluster*np.ones(points_per_cluster)\n",
        "        else: \n",
        "            X=np.concatenate((X,np.array([x1,x2]).T),axis=0)\n",
        "            y=np.concatenate((y,cluster*np.ones(points_per_cluster)),axis=0)\n",
        "\n",
        "    return X,y\n",
        "\n",
        "# GENERATE DATA\n",
        "num_clusters_real=1+int(7*np.random.uniform(0,1))\n",
        "print(num_clusters_real)\n",
        "X,y = generate_2D_normal_clusters(points_per_cluster=200, num_cluster=num_clusters_real, correlated=True)\n",
        "print(X.shape,y.shape)\n",
        "\n",
        "#FORCE CONTIGUOUS\n",
        "X=np.ascontiguousarray(X)"
      ]
    },
    {
      "cell_type": "markdown",
      "metadata": {},
      "source": [
        "## Results"
      ]
    },
    {
      "cell_type": "markdown",
      "metadata": {},
      "source": [
        "## Conclusions"
      ]
    }
  ],
  "metadata": {
    "kernelspec": {
      "display_name": "dsan5000",
      "language": "python",
      "name": "python3"
    },
    "language_info": {
      "codemirror_mode": {
        "name": "ipython",
        "version": 3
      },
      "file_extension": ".py",
      "mimetype": "text/x-python",
      "name": "python",
      "nbconvert_exporter": "python",
      "pygments_lexer": "ipython3",
      "version": "3.11.5"
    }
  },
  "nbformat": 4,
  "nbformat_minor": 4
}
