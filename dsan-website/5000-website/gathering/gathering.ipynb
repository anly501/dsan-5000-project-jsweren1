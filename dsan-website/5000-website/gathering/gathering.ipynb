{
  "cells": [
    {
      "cell_type": "raw",
      "id": "13941ba6",
      "metadata": {},
      "source": [
        "---\n",
        "title: Data Gathering\n",
        "format:\n",
        "  html:\n",
        "      embed-resources: true\n",
        "      code-fold: true\n",
        "      cite-method: biblatex\n",
        "---"
      ]
    },
    {
      "cell_type": "markdown",
      "id": "7b0a5f4a",
      "metadata": {},
      "source": [
        "To see all raw data gathered [click here](https://github.com/anly501/dsan-5000-project-jsweren1/tree/main/dsan-website/5000-website/data)"
      ]
    },
    {
      "cell_type": "markdown",
      "id": "f5f38817",
      "metadata": {},
      "source": [
        "### Quarterly and Annual Ridership Totals by Mode​ of Transportation [^1]\n",
        "\n",
        "The initial piece of data that was gathered comes from the American Public Transportation Association, and can serve as an introductory synopsis of the state of public transit ridership over time. This gives a broad view of quarterly ridership across the entire country from 1990 onward. Thus, this data has been chosen for the potential of setting the stage for the problem which we intend to explore.\n",
        "\n",
        "The raw data and methodology for how it was obtained can be found using this link: https://www.apta.com/research-technical-resources/transit-statistics/ridership-report/\n",
        "\n",
        "The data itself can be downloaded using this link: https://www.apta.com/wp-content/uploads/APTA-Ridership-by-Mode-and-Quarter-1990-Present.xlsx\n",
        "\n",
        "To download this data, I used an R API tool, which saves the data in Excel format. Below is the code for this action and a screenshot of the raw data to illustrate its form upon download:"
      ]
    },
    {
      "cell_type": "code",
      "execution_count": null,
      "id": "d1a5fcd2",
      "metadata": {},
      "outputs": [],
      "source": [
        "library(readxl)\n",
        "library(httr)\n",
        "url1<-'https://www.apta.com/wp-content/uploads/APTA-Ridership-by-Mode-and-Quarter-1990-Present.xlsx'\n",
        "GET(url1, write_disk(tf <- tempfile(pattern = \"APTA-Ridership-by-Mode-and-Quarter-1990-Present\", fileext = \".xlsx\", tmpdir = \"../data\")))\n",
        "df <- read_excel(tf, 2L)\n",
        "str(df)"
      ]
    },
    {
      "cell_type": "markdown",
      "id": "28262a80",
      "metadata": {},
      "source": [
        "![Quarterly and Annual Ridership Totals by Mode​ of Transportation](../images/apta_raw_data.png)"
      ]
    },
    {
      "cell_type": "markdown",
      "id": "a7e2a538",
      "metadata": {},
      "source": [
        "### News API Data [^2]\n",
        "\n",
        "An essential part of understanding public perception of a topic is by assessing how it is covered in the news. This often informs general opinions, and can introduce conversations that had not previously been in the zeitgeist. Thus, this paper will analyze text data from https://newsapi.org/ to allow us to study news coverage on two distinct public transit systems.\n",
        "\n",
        "For this project, I will be looking at data regarding the Washington Metropolitan Area Transit Authority (WMATA) and the Bay Area Rapid Transit (BART). Both of these transit systems have several advantages for academic study: they are both large networks with rich histories and connections to their respective cities, there exist robust data sources allowing us to analyze information from several angles, and comparing them will allow us to get perspectives on differences between cities on opposite coasts.\n",
        "\n",
        "The following shows how I accessed this News API via Python code. This outputs a JSON file as raw data, the start of which is included below each code block to show the nature of the data prior to cleaning."
      ]
    },
    {
      "cell_type": "code",
      "execution_count": null,
      "id": "f0f583d9",
      "metadata": {},
      "outputs": [],
      "source": [
        "import requests\n",
        "import json\n",
        "import re\n",
        "import pandas as pd\n",
        "from sklearn.feature_extraction.text import CountVectorizer\n",
        "\n",
        "baseURL = \"https://newsapi.org/v2/everything?\"\n",
        "total_requests=2\n",
        "verbose=True\n",
        "\n",
        "API_KEY='581fd71df234408291300dc13f0ee6e8'\n",
        "TOPIC='wmata'\n",
        "\n",
        "URLpost = {'apiKey': API_KEY,\n",
        "            'q': '+'+TOPIC,\n",
        "            'sortBy': 'relevancy',\n",
        "            'totalRequests': 1}\n",
        "\n",
        "response = requests.get(baseURL, URLpost)\n",
        "response = response.json()\n",
        "\n",
        "with open('WMATA-newapi-raw-data.json', 'w') as outfile:\n",
        "    json.dump(response, outfile, indent=4)"
      ]
    },
    {
      "cell_type": "markdown",
      "id": "2e7c05b7",
      "metadata": {},
      "source": [
        "![Raw JSON data from News API; Topic: WMATA](../images/wmata_news_raw_data.png)"
      ]
    },
    {
      "cell_type": "code",
      "execution_count": null,
      "id": "4b9ad2cc",
      "metadata": {},
      "outputs": [],
      "source": [
        "baseURL = \"https://newsapi.org/v2/everything?\"\n",
        "total_requests=2\n",
        "verbose=True\n",
        "\n",
        "API_KEY='581fd71df234408291300dc13f0ee6e8'\n",
        "TOPIC='Bay Area Rapid Transit'\n",
        "\n",
        "URLpost = {'apiKey': API_KEY,\n",
        "            'q': '+'+TOPIC,\n",
        "            'sortBy': 'relevancy',\n",
        "            'totalRequests': 1}\n",
        "\n",
        "response = requests.get(baseURL, URLpost)\n",
        "response = response.json()\n",
        "\n",
        "with open('BART-newapi-raw-data.json', 'w') as outfile:\n",
        "    json.dump(response, outfile, indent=4)"
      ]
    },
    {
      "cell_type": "markdown",
      "id": "020e5851",
      "metadata": {},
      "source": [
        "![Raw JSON data from News API; Topic: Bay Area Rapid Transit](../images/bart_news_raw_data.png)"
      ]
    },
    {
      "cell_type": "markdown",
      "id": "e5d99320",
      "metadata": {},
      "source": [
        "### Remote Work Trends [^3]\n",
        "\n",
        "It is reasonable to hypothesize that one of the main factors in public transit usage is people commuting to and from work. The term \"rush hour\" is a seemingly daily phrase, meaning the times in the morning and evening at which most people go to or return from their occupation. Thus, when COVID-19 struck and many workers were no longer expected to go to work in-person, the need for public transportation decreased drastically.\n",
        "\n",
        "In the years since, remote work has been a topic of controversy. Many workers enjoy the benefits of privacy and the added time of not having to commute, while employers often cite advantages of being on-site even in office jobs. While in-person work has rebounded recently, much like public transit usage, it has not nearly returned to the prevalence of prior to the pandemic. Therefore, understanding trends surrounding remote work can provide insights on how to analyze public transportation trends.\n",
        "\n",
        "WFH Research has exhaustive data sets regarding remote work information. For the purposes of this project, we will take into account three data sets. To better understand the controversial aspects of remote work, the first two data sets contain survey information from *(a)* employers and *(b)* workers on what they desire in terms of average remote work days per week. The third data set provides time series information on the amount of working from home (percent of full paid days) for large cities, including Washington, D.C. and the San Francisco Bay Area. Screenshots of the raw data are shown below:"
      ]
    },
    {
      "cell_type": "markdown",
      "id": "53dc6229",
      "metadata": {},
      "source": [
        "![Remote Work Desires of Employers](../images/wfh_employer.png)\n",
        "\n",
        "![Remote Work Desires of Workers](../images/wfh_worker.png)\n",
        "\n",
        "![Remote Work Percentages by City](../images/wfh_city.png)"
      ]
    },
    {
      "cell_type": "markdown",
      "id": "49f92393",
      "metadata": {},
      "source": [
        "### Ridership Trends for each City [^4] [^5]\n",
        "\n",
        "Now that we have background information regarding both cities of concern, the next piece of information to gather is public transit ridership. This will give us comprehensive monthly data from 2018 to 2023 to provide insights on the nature of the decline in public transit, as well as the current recovery.\n",
        "\n",
        "For WMATA, the data comes from https://www.wmata.com/initiatives/ridership-portal/, and gives simple average daily entries per month. Meanwhile, BART data comes from https://www.bart.gov/about/reports/ridership, which provides reports each month on entries and exits by station. The raw data for WMATA entries, as well as the most recent BART report, are shown below:"
      ]
    },
    {
      "cell_type": "markdown",
      "id": "c4bb72ca",
      "metadata": {},
      "source": [
        "![WMATA Average Daily Entries by Month](../images/wmata_monthly_boarding.png)\n",
        "\n",
        "![September 2023 Report for BART Entries/Exits by Station](../images/bart_sample_boarding.png)"
      ]
    },
    {
      "cell_type": "markdown",
      "id": "d5d984c2",
      "metadata": {},
      "source": [
        "### Ridership by Hour\n",
        "\n",
        "In addition to the volume of public transit usage, we can glean information on the purpose of public transit usage by analyzing the users by hour of the day. High peaks during \"rush hour\" likely indicate a great influence of work commuting on the data. Because of this, I downloaded both pre-pandemic and post-pandemic data sets regarding WMATA ridership by hour to view this relationship and whether it has changed due to new circumstances. In this case, March 17, 2020 is chosen as the demarcation date, as that was the day in which the first social distancing precautions were announced in Washington, D.C. The data is shown below:"
      ]
    },
    {
      "cell_type": "markdown",
      "id": "778b2a5e",
      "metadata": {},
      "source": [
        "![Hourly Ridership from 1/1/2018 to 3/17/2020](../images/hourly_pre-covid.png)\n",
        "\n",
        "![Hourly Ridership from 3/18/2020 to 10/5/2023](../images/hourly_post-covid.png)"
      ]
    },
    {
      "cell_type": "markdown",
      "id": "cf6c922d",
      "metadata": {},
      "source": [
        "### Ridership by Demographic [^6]\n",
        "\n",
        "In answering the question of whether or not public transit's public service should be the paramount consideration for its efficacy, it is important to understand that it often provides service disproportionally to underprivileged groups. By analyzing demographic data, we can gather insights on who benefits most from robust public transit systems. To address this, there is data from the U.S. Census Bureau that provides 5-year estimates from 2021 of means of transportation to work by selected characteristics. The raw data is shown below:"
      ]
    },
    {
      "cell_type": "markdown",
      "id": "419a0021",
      "metadata": {},
      "source": [
        "![2021 5-Year Estimate of Transportation Means by Demographic](../images/ridership_demographic.png)"
      ]
    },
    {
      "cell_type": "markdown",
      "metadata": {},
      "source": [
        "### Commute to Work by Demographic [^7]\n",
        "\n",
        "Similar to the previous dataset, we want to further address the idea that public transit affects different groups of people to varying extents. Therefore, a source of data that will be useful is a survey dataset from ipums.org, which has millions of survey responses from the U.S. Census Bureau. The main reason for obtaining this data is the presence of a \"Means of transportation to work\" field, which will serve as our labels. Additionally, various demographics fields can be used to perform Naive Bayes classification later on. This data was obtained by submitting a download request for 2021 Census data and the following fields below:\n",
        "\n",
        "![2021 Survey Fields](../images/ipums_fields.png)"
      ]
    },
    {
      "cell_type": "markdown",
      "metadata": {},
      "source": [
        "### WMATA and BART Yelp Reviews [^8] [^9]\n",
        "\n",
        "Gauging public sentiment regarding public transit systems can be a great way to analyze the relationship between said system and the residents of its respective city. Regardless of external factors, consumer dissatisfaction of a mode of transportation could greatly influence its usage when other methods are readily available for many. Thus, these datasets will feature Yelp reviews of both the WMATA and BART systems, including the date of review, the exact text, and the associated numerical rating (1-5 stars). Gathering labeled text data will be invaluable for Naive Bayes classification in the future. To accomplish this, I will use the `BeautifulSoup` package in Python, which facilitates web scraping via HTML codes. Since the reviews span several pages, it is necessary to iterate over each page to obtain every review available to us. The code for this is below, along with screenshots of the raw data after being collated into dataframes. "
      ]
    },
    {
      "cell_type": "code",
      "execution_count": 1,
      "metadata": {},
      "outputs": [
        {
          "name": "stdout",
          "output_type": "stream",
          "text": [
            "Intel MKL WARNING: Support of Intel(R) Streaming SIMD Extensions 4.2 (Intel(R) SSE4.2) enabled only processors has been deprecated. Intel oneAPI Math Kernel Library 2025.0 will require Intel(R) Advanced Vector Extensions (Intel(R) AVX) instructions.\n",
            "Intel MKL WARNING: Support of Intel(R) Streaming SIMD Extensions 4.2 (Intel(R) SSE4.2) enabled only processors has been deprecated. Intel oneAPI Math Kernel Library 2025.0 will require Intel(R) Advanced Vector Extensions (Intel(R) AVX) instructions.\n"
          ]
        }
      ],
      "source": [
        "import pandas as pd\n",
        "import csv\n",
        "import requests\n",
        "from bs4 import BeautifulSoup\n",
        "r = requests.get('https://www.yelp.com/biz/wmata-washington')\n",
        "soup = BeautifulSoup(r.text, 'html.parser')\n",
        "reviews = soup.find(string='Recommended Reviews').find_parent('section')\n",
        "num_rating = []\n",
        "review_date = []\n",
        "review_text = []\n",
        "for review in reviews.select('div[aria-label$=\"star rating\"]'):\n",
        "    num_rating.append(review['aria-label'])\n",
        "    review_date.append(review.find_next('span').text)\n",
        "    review_text.append(review.find_next('span', lang=True).text)\n",
        "\n",
        "for i in range(1,10):\n",
        "    r = requests.get('https://www.yelp.com/biz/wmata-washington?start=' + str(i) + '0')\n",
        "    soup = BeautifulSoup(r.text, 'html.parser')\n",
        "    reviews = soup.find(string='Recommended Reviews').find_parent('section')\n",
        "    for review in reviews.select('div[aria-label$=\"star rating\"]'):\n",
        "        num_rating.append(review['aria-label'])\n",
        "        review_date.append(review.find_next('span').text)\n",
        "        review_text.append(review.find_next('span', lang=True).text)\n",
        "\n",
        "wmata_reviews = pd.DataFrame(list(zip(num_rating,review_date,review_text)))\n",
        "wmata_reviews.to_csv('../data/yelp_reviews/wmata_reviews.csv')"
      ]
    },
    {
      "cell_type": "markdown",
      "metadata": {},
      "source": [
        "![WMATA Yelp Reviews](../images/wmata_reviews_raw.png)"
      ]
    },
    {
      "cell_type": "code",
      "execution_count": 2,
      "metadata": {},
      "outputs": [],
      "source": [
        "r = requests.get('https://www.yelp.com/biz/bart-bay-area-rapid-transit-oakland-2')\n",
        "soup = BeautifulSoup(r.text, 'html.parser')\n",
        "hold1 = soup.find(string='Recommended Reviews')\n",
        "if hold1 is not None:\n",
        "    reviews = hold1.find_parent('section')\n",
        "num_rating1 = []\n",
        "review_date1 = []\n",
        "review_text1 = []\n",
        "for review in reviews.select('div[aria-label$=\"star rating\"]'):\n",
        "    num_rating1.append(review['aria-label'])\n",
        "    review_date1.append(review.find_next('span').text)\n",
        "    hold = review.find_next('span', lang=True)\n",
        "    if hold is None:\n",
        "        review_text1.append(\"NA\")\n",
        "    else:\n",
        "        review_text1.append(hold.text)\n",
        "\n",
        "for i in range(1,101):\n",
        "    r = requests.get('https://www.yelp.com/biz/bart-bay-area-rapid-transit-oakland-2?start=' + str(i) + '0')\n",
        "    soup = BeautifulSoup(r.text, 'html.parser')\n",
        "    hold1 = soup.find(string='Recommended Reviews')\n",
        "    if hold1 is not None:\n",
        "        reviews = hold1.find_parent('section')\n",
        "    for review in reviews.select('div[aria-label$=\"star rating\"]'):\n",
        "        num_rating1.append(review['aria-label'])\n",
        "        review_date1.append(review.find_next('span').text)\n",
        "        hold = review.find_next('span', lang=True)\n",
        "        if hold is None:\n",
        "            review_text1.append(\"NA\")\n",
        "        else:\n",
        "            review_text1.append(hold.text)\n",
        "\n",
        "bart_reviews = pd.DataFrame(list(zip(num_rating1,review_date1,review_text1)))\n",
        "bart_reviews.to_csv('../data/yelp_reviews/bart_reviews.csv')"
      ]
    },
    {
      "cell_type": "markdown",
      "metadata": {},
      "source": [
        "![BART Yelp Reviews](../images/bart_reviews_raw.png)"
      ]
    },
    {
      "cell_type": "markdown",
      "metadata": {},
      "source": [
        "### APTA"
      ]
    },
    {
      "cell_type": "markdown",
      "metadata": {},
      "source": [
        "![Public Transit Data by City](../images/apta_cities.png)"
      ]
    },
    {
      "cell_type": "code",
      "execution_count": 3,
      "metadata": {},
      "outputs": [],
      "source": [
        "r = requests.get('https://www.yelp.com/biz/metropolitan-transportation-authority-new-york-6')\n",
        "soup = BeautifulSoup(r.text, 'html.parser')\n",
        "hold1 = soup.find(string='Recommended Reviews')\n",
        "if hold1 is not None:\n",
        "    reviews = hold1.find_parent('section')\n",
        "num_rating1 = []\n",
        "review_date1 = []\n",
        "review_text1 = []\n",
        "for review in reviews.select('div[aria-label$=\"star rating\"]'):\n",
        "    num_rating1.append(review['aria-label'])\n",
        "    review_date1.append(review.find_next('span').text)\n",
        "    hold = review.find_next('span', lang=True)\n",
        "    if hold is None:\n",
        "        review_text1.append(\"NA\")\n",
        "    else:\n",
        "        review_text1.append(hold.text)\n",
        "\n",
        "for i in range(1,14):\n",
        "    r = requests.get('https://www.yelp.com/biz/metropolitan-transportation-authority-new-york-6?start=' + str(i) + '0')\n",
        "    soup = BeautifulSoup(r.text, 'html.parser')\n",
        "    hold1 = soup.find(string='Recommended Reviews')\n",
        "    if hold1 is not None:\n",
        "        reviews = hold1.find_parent('section')\n",
        "    for review in reviews.select('div[aria-label$=\"star rating\"]'):\n",
        "        num_rating1.append(review['aria-label'])\n",
        "        review_date1.append(review.find_next('span').text)\n",
        "        hold = review.find_next('span', lang=True)\n",
        "        if hold is None:\n",
        "            review_text1.append(\"NA\")\n",
        "        else:\n",
        "            review_text1.append(hold.text)\n",
        "\n",
        "mta_reviews = pd.DataFrame(list(zip(num_rating1,review_date1,review_text1)))\n",
        "mta_reviews.to_csv('../data/yelp_reviews/mta_reviews.csv')"
      ]
    },
    {
      "cell_type": "code",
      "execution_count": 4,
      "metadata": {},
      "outputs": [],
      "source": [
        "r = requests.get('https://www.yelp.com/biz/metro-los-angeles-los-angeles')\n",
        "soup = BeautifulSoup(r.text, 'html.parser')\n",
        "hold1 = soup.find(string='Recommended Reviews')\n",
        "if hold1 is not None:\n",
        "    reviews = hold1.find_parent('section')\n",
        "num_rating1 = []\n",
        "review_date1 = []\n",
        "review_text1 = []\n",
        "for review in reviews.select('div[aria-label$=\"star rating\"]'):\n",
        "    num_rating1.append(review['aria-label'])\n",
        "    review_date1.append(review.find_next('span').text)\n",
        "    hold = review.find_next('span', lang=True)\n",
        "    if hold is None:\n",
        "        review_text1.append(\"NA\")\n",
        "    else:\n",
        "        review_text1.append(hold.text)\n",
        "\n",
        "for i in range(1,18):\n",
        "    r = requests.get('https://www.yelp.com/biz/metro-los-angeles-los-angeles?start=' + str(i) + '0')\n",
        "    soup = BeautifulSoup(r.text, 'html.parser')\n",
        "    hold1 = soup.find(string='Recommended Reviews')\n",
        "    if hold1 is not None:\n",
        "        reviews = hold1.find_parent('section')\n",
        "    for review in reviews.select('div[aria-label$=\"star rating\"]'):\n",
        "        num_rating1.append(review['aria-label'])\n",
        "        review_date1.append(review.find_next('span').text)\n",
        "        hold = review.find_next('span', lang=True)\n",
        "        if hold is None:\n",
        "            review_text1.append(\"NA\")\n",
        "        else:\n",
        "            review_text1.append(hold.text)\n",
        "\n",
        "la_reviews = pd.DataFrame(list(zip(num_rating1,review_date1,review_text1)))\n",
        "la_reviews.to_csv('../data/yelp_reviews/la_reviews.csv')"
      ]
    },
    {
      "cell_type": "code",
      "execution_count": 5,
      "metadata": {},
      "outputs": [],
      "source": [
        "r = requests.get('https://www.yelp.com/biz/chicago-transit-authority-chicago-6')\n",
        "soup = BeautifulSoup(r.text, 'html.parser')\n",
        "hold1 = soup.find(string='Recommended Reviews')\n",
        "if hold1 is not None:\n",
        "    reviews = hold1.find_parent('section')\n",
        "num_rating1 = []\n",
        "review_date1 = []\n",
        "review_text1 = []\n",
        "for review in reviews.select('div[aria-label$=\"star rating\"]'):\n",
        "    num_rating1.append(review['aria-label'])\n",
        "    review_date1.append(review.find_next('span').text)\n",
        "    hold = review.find_next('span', lang=True)\n",
        "    if hold is None:\n",
        "        review_text1.append(\"NA\")\n",
        "    else:\n",
        "        review_text1.append(hold.text)\n",
        "\n",
        "for i in range(1,38):\n",
        "    r = requests.get('https://www.yelp.com/biz/chicago-transit-authority-chicago-6?start=' + str(i) + '0')\n",
        "    soup = BeautifulSoup(r.text, 'html.parser')\n",
        "    hold1 = soup.find(string='Recommended Reviews')\n",
        "    if hold1 is not None:\n",
        "        reviews = hold1.find_parent('section')\n",
        "    for review in reviews.select('div[aria-label$=\"star rating\"]'):\n",
        "        num_rating1.append(review['aria-label'])\n",
        "        review_date1.append(review.find_next('span').text)\n",
        "        hold = review.find_next('span', lang=True)\n",
        "        if hold is None:\n",
        "            review_text1.append(\"NA\")\n",
        "        else:\n",
        "            review_text1.append(hold.text)\n",
        "\n",
        "cta_reviews = pd.DataFrame(list(zip(num_rating1,review_date1,review_text1)))\n",
        "cta_reviews.to_csv('../data/yelp_reviews/cta_reviews.csv')"
      ]
    },
    {
      "cell_type": "code",
      "execution_count": 6,
      "metadata": {},
      "outputs": [],
      "source": [
        "r = requests.get('https://www.yelp.com/biz/septa-philadelphia-7')\n",
        "soup = BeautifulSoup(r.text, 'html.parser')\n",
        "hold1 = soup.find(string='Recommended Reviews')\n",
        "if hold1 is not None:\n",
        "    reviews = hold1.find_parent('section')\n",
        "num_rating1 = []\n",
        "review_date1 = []\n",
        "review_text1 = []\n",
        "for review in reviews.select('div[aria-label$=\"star rating\"]'):\n",
        "    num_rating1.append(review['aria-label'])\n",
        "    review_date1.append(review.find_next('span').text)\n",
        "    hold = review.find_next('span', lang=True)\n",
        "    if hold is None:\n",
        "        review_text1.append(\"NA\")\n",
        "    else:\n",
        "        review_text1.append(hold.text)\n",
        "\n",
        "for i in range(1,10):\n",
        "    r = requests.get('https://www.yelp.com/biz/septa-philadelphia-7?start=' + str(i) + '0')\n",
        "    soup = BeautifulSoup(r.text, 'html.parser')\n",
        "    hold1 = soup.find(string='Recommended Reviews')\n",
        "    if hold1 is not None:\n",
        "        reviews = hold1.find_parent('section')\n",
        "    for review in reviews.select('div[aria-label$=\"star rating\"]'):\n",
        "        num_rating1.append(review['aria-label'])\n",
        "        review_date1.append(review.find_next('span').text)\n",
        "        hold = review.find_next('span', lang=True)\n",
        "        if hold is None:\n",
        "            review_text1.append(\"NA\")\n",
        "        else:\n",
        "            review_text1.append(hold.text)\n",
        "\n",
        "septa_reviews = pd.DataFrame(list(zip(num_rating1,review_date1,review_text1)))\n",
        "septa_reviews.to_csv('../data/yelp_reviews/septa_reviews.csv')"
      ]
    },
    {
      "cell_type": "code",
      "execution_count": 7,
      "metadata": {},
      "outputs": [],
      "source": [
        "r = requests.get('https://www.yelp.com/biz/massachusetts-bay-transportation-authority-boston')\n",
        "soup = BeautifulSoup(r.text, 'html.parser')\n",
        "hold1 = soup.find(string='Recommended Reviews')\n",
        "if hold1 is not None:\n",
        "    reviews = hold1.find_parent('section')\n",
        "num_rating1 = []\n",
        "review_date1 = []\n",
        "review_text1 = []\n",
        "for review in reviews.select('div[aria-label$=\"star rating\"]'):\n",
        "    num_rating1.append(review['aria-label'])\n",
        "    review_date1.append(review.find_next('span').text)\n",
        "    hold = review.find_next('span', lang=True)\n",
        "    if hold is None:\n",
        "        review_text1.append(\"NA\")\n",
        "    else:\n",
        "        review_text1.append(hold.text)\n",
        "\n",
        "for i in range(1,34):\n",
        "    r = requests.get('https://www.yelp.com/biz/massachusetts-bay-transportation-authority-boston?start=' + str(i) + '0')\n",
        "    soup = BeautifulSoup(r.text, 'html.parser')\n",
        "    hold1 = soup.find(string='Recommended Reviews')\n",
        "    if hold1 is not None:\n",
        "        reviews = hold1.find_parent('section')\n",
        "    for review in reviews.select('div[aria-label$=\"star rating\"]'):\n",
        "        num_rating1.append(review['aria-label'])\n",
        "        review_date1.append(review.find_next('span').text)\n",
        "        hold = review.find_next('span', lang=True)\n",
        "        if hold is None:\n",
        "            review_text1.append(\"NA\")\n",
        "        else:\n",
        "            review_text1.append(hold.text)\n",
        "\n",
        "mbta_reviews = pd.DataFrame(list(zip(num_rating1,review_date1,review_text1)))\n",
        "mbta_reviews.to_csv('../data/yelp_reviews/mbta_reviews.csv')"
      ]
    },
    {
      "cell_type": "markdown",
      "id": "d156b4ae",
      "metadata": {},
      "source": [
        "[^1]: “Ridership Report.” American Public Transportation Association, 21 Sept. 2023, www.apta.com/research-technical-resources/transit-statistics/ridership-report/. \n",
        "\n",
        "[^2]: “News API – Search News and Blog Articles on the Web.” News API Â Search News and Blog Articles on the Web, newsapi.org/. Accessed 12 Oct. 2023.\n",
        "\n",
        "[^3]: Barrero, Jose Maria, et al. Why Working from Home Will Stick, 2021, https://doi.org/10.3386/w28731.\n",
        "\n",
        "[^4]: “Washington Metropolitan Area Transit Authority.” WMATA, www.wmata.com/initiatives/ridership-portal/. Accessed 12 Oct. 2023. \n",
        "\n",
        "[^5]: “Ridership Reports.” Ridership Reports | Bay Area Rapid Transit, www.bart.gov/about/reports/ridership. Accessed 13 Oct. 2023. \n",
        "\n",
        "[^6]: U.S. Census Bureau. \"MEANS OF TRANSPORTATION TO WORK BY SELECTED CHARACTERISTICS.\" American Community Survey, ACS 5-Year Estimates Subject Tables, Table S0802, 2021, https://data.census.gov/table/ACSST5Y2021.S0802?t=Commuting&g=860XX00US20020,20032. Accessed on October 12, 2023.\n",
        "\n",
        "[^7]: Steven Ruggles, Sarah Flood, Matthew Sobek, Danika Brockman, Grace Cooper,  Stephanie Richards, and Megan Schouweiler. IPUMS USA: Version 13.0 [dataset]. Minneapolis, MN: IPUMS, 2023.\n",
        "https://doi.org/10.18128/D010.V13.0\n",
        "\n",
        "[^8]: “WMATA - Washington, DC, DC,” Yelp, https://www.yelp.com/biz/wmata-washington (accessed Nov. 2, 2023). \n",
        "\n",
        "[^9]: “Bart - Bay Area Rapid Transit - Oakland, CA,” Yelp, https://www.yelp.com/biz/bart-bay-area-rapid-transit-oakland-2 (accessed Nov. 2, 2023). "
      ]
    }
  ],
  "metadata": {
    "kernelspec": {
      "display_name": "Python 3 (ipykernel)",
      "language": "python",
      "name": "python3"
    },
    "language_info": {
      "codemirror_mode": {
        "name": "ipython",
        "version": 3
      },
      "file_extension": ".py",
      "mimetype": "text/x-python",
      "name": "python",
      "nbconvert_exporter": "python",
      "pygments_lexer": "ipython3",
      "version": "3.11.5"
    }
  },
  "nbformat": 4,
  "nbformat_minor": 5
}
